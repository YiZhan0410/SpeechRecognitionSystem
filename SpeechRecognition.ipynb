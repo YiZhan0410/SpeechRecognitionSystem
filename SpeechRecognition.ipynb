{
 "cells": [
  {
   "cell_type": "code",
   "execution_count": 10,
   "metadata": {},
   "outputs": [
    {
     "name": "stdout",
     "output_type": "stream",
     "text": [
      "Hello! Please say something to me: \n",
      "You said: \n",
      "I love Starbucks\n"
     ]
    }
   ],
   "source": [
    "# Speech recognition prototype\n",
    "\n",
    "\"\"\"\n",
    "Author: Yi Zhan Wong\n",
    "Date: 18 January 2021\n",
    "\n",
    "Instruction before use the system:\n",
    "\n",
    "Some packages require to install before run this code:\n",
    "\n",
    "// pip install SpeechRecognition\n",
    "// pip install simpleaudio\n",
    "\n",
    "\"\"\"\n",
    "\n",
    "# Import packages\n",
    "import speech_recognition as sr # extra download by typing command pip install SpeechRecognition\n",
    "import os\n",
    "import simpleaudio as sa # extra download by typing command pip install simpleaudio\n",
    "\n",
    "# Create the speech recognition object (referred from tutorialspoint.com)\n",
    "recording = sr.Recognizer()\n",
    "\n",
    "# Enable microphone (referred from tutorialspoint.com)\n",
    "with sr.Microphone() as source: \n",
    "    recording.adjust_for_ambient_noise(source) # adjust to normalise ambient noise\n",
    "    \n",
    "    # (Greet to the user function done by Yi Zhan Wong)\n",
    "    print(\"Hello! Please say something to me: \")\n",
    "    os.system(\"say Hello! Please say something to me\") # device speaks \n",
    "    audio = recording.listen(source) # device listens via microphone\n",
    "    \n",
    "    # Create audio file (Store audio file function done by Yi Zhan Wong)\n",
    "    with open(\"speech.wav\", \"wb\") as file:\n",
    "        file.write(audio.get_wav_data())\n",
    "\n",
    "# Use Google API to recognise the voice and output (referred from tutorialspoint.com)\n",
    "try:\n",
    "    print(\"You said: \\n\" + recording.recognize_google(audio))\n",
    "    \n",
    "    # (Play audio file function done by Yi Zhan Wong)\n",
    "    os.system(\"say You said: \\n\" + recording.recognize_google(audio))\n",
    "    wave = sa.WaveObject.from_wave_file('speech.wav')\n",
    "    play_audio = wave.play()\n",
    "    play_audio.wait_done()\n",
    "    \n",
    "except Exception as e:\n",
    "    print(\"You say nothing to me :(\")\n",
    "    \n",
    "    # (Greet to the user function done by Yi Zhan Wong)\n",
    "    os.system(\"say You say nothing to me\")"
   ]
  },
  {
   "cell_type": "code",
   "execution_count": null,
   "metadata": {},
   "outputs": [],
   "source": []
  },
  {
   "cell_type": "code",
   "execution_count": null,
   "metadata": {},
   "outputs": [],
   "source": []
  }
 ],
 "metadata": {
  "kernelspec": {
   "display_name": "Python 3",
   "language": "python",
   "name": "python3"
  },
  "language_info": {
   "codemirror_mode": {
    "name": "ipython",
    "version": 3
   },
   "file_extension": ".py",
   "mimetype": "text/x-python",
   "name": "python",
   "nbconvert_exporter": "python",
   "pygments_lexer": "ipython3",
   "version": "3.8.3"
  }
 },
 "nbformat": 4,
 "nbformat_minor": 4
}
